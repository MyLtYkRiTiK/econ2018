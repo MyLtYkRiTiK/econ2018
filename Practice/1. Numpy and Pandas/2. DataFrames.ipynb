{
 "cells": [
  {
   "cell_type": "markdown",
   "metadata": {},
   "source": [
    "# Pandas"
   ]
  },
  {
   "cell_type": "markdown",
   "metadata": {},
   "source": [
    "# Series"
   ]
  },
  {
   "cell_type": "markdown",
   "metadata": {},
   "source": [
    "Начнем изучение pandas с рядов. Ряды очень похожи на NumPy array. Различие в том, что ряды могут иметь не только числовые индексы, а состоящие из любых Python объектов.\n",
    "\n",
    "Разберем некоторые примеры."
   ]
  },
  {
   "cell_type": "code",
   "execution_count": null,
   "metadata": {},
   "outputs": [],
   "source": [
    "import numpy as np\n",
    "import pandas as pd"
   ]
  },
  {
   "cell_type": "markdown",
   "metadata": {},
   "source": [
    "### Создание\n",
    "\n",
    "В ряд можно превратить лист, numpy array, или словарь:"
   ]
  },
  {
   "cell_type": "code",
   "execution_count": null,
   "metadata": {},
   "outputs": [],
   "source": [
    "spells = ['Accio','Riddikulus','Expelliarmus']\n",
    "power = [100, 300, 500]\n",
    "arr = np.array([100, 300, 500])\n",
    "dict_of_spells = {'Accio':100, 'Riddikulus':200, 'Expelliarmus':300}"
   ]
  },
  {
   "cell_type": "markdown",
   "metadata": {},
   "source": [
    "**Лист**"
   ]
  },
  {
   "cell_type": "code",
   "execution_count": null,
   "metadata": {},
   "outputs": [],
   "source": [
    "pd.Series(power)"
   ]
  },
  {
   "cell_type": "code",
   "execution_count": null,
   "metadata": {},
   "outputs": [],
   "source": [
    "pd.Series(data=power, index=spells)"
   ]
  },
  {
   "cell_type": "markdown",
   "metadata": {},
   "source": [
    "**NumPy Arrays**"
   ]
  },
  {
   "cell_type": "code",
   "execution_count": null,
   "metadata": {},
   "outputs": [],
   "source": [
    "pd.Series(arr)"
   ]
  },
  {
   "cell_type": "code",
   "execution_count": null,
   "metadata": {},
   "outputs": [],
   "source": [
    "pd.Series(arr, spells)"
   ]
  },
  {
   "cell_type": "markdown",
   "metadata": {},
   "source": [
    "**Словарь**"
   ]
  },
  {
   "cell_type": "code",
   "execution_count": null,
   "metadata": {},
   "outputs": [],
   "source": [
    "d_o_s = pd.Series(dict_of_spells)\n",
    "d_o_s"
   ]
  },
  {
   "cell_type": "markdown",
   "metadata": {},
   "source": [
    "## Использование индекса:"
   ]
  },
  {
   "cell_type": "code",
   "execution_count": null,
   "metadata": {},
   "outputs": [],
   "source": [
    "d_o_s['Riddikulus']"
   ]
  },
  {
   "cell_type": "markdown",
   "metadata": {
    "collapsed": true
   },
   "source": [
    "# DataFrames\n",
    "\n",
    "DataFrames - это очень удобный инструмент для работы с данными. DataFrames можно представлять как набор индексированных одним индексом рядов."
   ]
  },
  {
   "cell_type": "code",
   "execution_count": null,
   "metadata": {},
   "outputs": [],
   "source": [
    "from numpy.random import randint"
   ]
  },
  {
   "cell_type": "code",
   "execution_count": null,
   "metadata": {},
   "outputs": [],
   "source": [
    "# Создание DataFrame\n",
    "np.random.seed(42)\n",
    "df = pd.DataFrame(randint(50, 100, size=(4,8)),index='Harry Ron Luna Neville'.split(),\n",
    "                  columns='Astronomy Charms Flying Herbology History_of_Magic Potions Transfiguration Apparition'.split())"
   ]
  },
  {
   "cell_type": "code",
   "execution_count": null,
   "metadata": {},
   "outputs": [],
   "source": [
    "df"
   ]
  },
  {
   "cell_type": "markdown",
   "metadata": {},
   "source": [
    "## Выбор и индексация"
   ]
  },
  {
   "cell_type": "code",
   "execution_count": null,
   "metadata": {},
   "outputs": [],
   "source": [
    "df['Potions']"
   ]
  },
  {
   "cell_type": "code",
   "execution_count": null,
   "metadata": {},
   "outputs": [],
   "source": [
    "# Выбор нескольких колонок по именам колонок\n",
    "df[['History_of_Magic', 'Potions']]"
   ]
  },
  {
   "cell_type": "markdown",
   "metadata": {},
   "source": [
    "**Создание новой колонки разными способами:**"
   ]
  },
  {
   "cell_type": "code",
   "execution_count": null,
   "metadata": {},
   "outputs": [],
   "source": [
    "# MeanACF = Mean Astronomy Charms Flying - подсчет средней разными способами\n",
    "df['MeanACF_0'] = (df['Astronomy'] + df['Charms'] + df['Flying'])/\\\n",
    "                                    df[['Astronomy', 'Charms', 'Flying']].shape[1]\n",
    "df"
   ]
  },
  {
   "cell_type": "code",
   "execution_count": null,
   "metadata": {},
   "outputs": [],
   "source": [
    "df['MeanACF_1'] = df[['Astronomy', 'Charms', 'Flying']].mean(axis=1)\n",
    "df"
   ]
  },
  {
   "cell_type": "code",
   "execution_count": null,
   "metadata": {},
   "outputs": [],
   "source": [
    "df['MeanACF_2'] = df[['Astronomy', 'Charms', 'Flying']].apply(lambda x: np.mean(x), axis=1)\n",
    "df"
   ]
  },
  {
   "cell_type": "code",
   "execution_count": null,
   "metadata": {},
   "outputs": [],
   "source": [
    "# Удобство исаользования lambda выражений, через них можно реализовывать широкий перечень несложных функций\n",
    "df['Apparition_new'] = df['Apparition'].apply(lambda x: x*1.2)\n",
    "df"
   ]
  },
  {
   "cell_type": "markdown",
   "metadata": {},
   "source": [
    "**Удаление колонок**"
   ]
  },
  {
   "cell_type": "code",
   "execution_count": null,
   "metadata": {},
   "outputs": [],
   "source": [
    "df.drop('MeanACF_2', axis=1)"
   ]
  },
  {
   "cell_type": "code",
   "execution_count": null,
   "metadata": {},
   "outputs": [],
   "source": [
    "# В примере выше реального удаления не произошло, надо добавить inplace\n",
    "df"
   ]
  },
  {
   "cell_type": "code",
   "execution_count": null,
   "metadata": {},
   "outputs": [],
   "source": [
    "df.drop(['MeanACF_0', 'MeanACF_1', 'MeanACF_2', 'Apparition_new'], axis=1, inplace=True)"
   ]
  },
  {
   "cell_type": "code",
   "execution_count": null,
   "metadata": {},
   "outputs": [],
   "source": [
    "df"
   ]
  },
  {
   "cell_type": "markdown",
   "metadata": {},
   "source": [
    "Точно так же можно удалять и строки:"
   ]
  },
  {
   "cell_type": "code",
   "execution_count": null,
   "metadata": {},
   "outputs": [],
   "source": [
    "df.drop('Luna',axis=0)"
   ]
  },
  {
   "cell_type": "markdown",
   "metadata": {},
   "source": [
    "**Индексация по строкам и столбцам**"
   ]
  },
  {
   "cell_type": "code",
   "execution_count": null,
   "metadata": {},
   "outputs": [],
   "source": [
    "df.loc['Neville','Astronomy']"
   ]
  },
  {
   "cell_type": "code",
   "execution_count": null,
   "metadata": {},
   "outputs": [],
   "source": [
    "df.iloc[[1, 0], [4, 5]]"
   ]
  },
  {
   "cell_type": "code",
   "execution_count": null,
   "metadata": {},
   "outputs": [],
   "source": [
    "df.loc[['Ron','Harry'],['History_of_Magic', 'Potions']]"
   ]
  },
  {
   "cell_type": "markdown",
   "metadata": {},
   "source": [
    "### Выбор по условиям, фильтрация"
   ]
  },
  {
   "cell_type": "code",
   "execution_count": null,
   "metadata": {},
   "outputs": [],
   "source": [
    "df"
   ]
  },
  {
   "cell_type": "code",
   "execution_count": null,
   "metadata": {},
   "outputs": [],
   "source": [
    "df>80"
   ]
  },
  {
   "cell_type": "code",
   "execution_count": null,
   "metadata": {},
   "outputs": [],
   "source": [
    "df[df>80]"
   ]
  },
  {
   "cell_type": "code",
   "execution_count": null,
   "metadata": {},
   "outputs": [],
   "source": [
    "# Фильтрация с помощью условий\n",
    "df[df['Herbology']>80]"
   ]
  },
  {
   "cell_type": "code",
   "execution_count": null,
   "metadata": {},
   "outputs": [],
   "source": [
    "# Без inplace опять ничего не проиходит с таблицей\n",
    "df"
   ]
  },
  {
   "cell_type": "markdown",
   "metadata": {},
   "source": [
    "Для нескольких условий можно использовать или | и и &:"
   ]
  },
  {
   "cell_type": "code",
   "execution_count": null,
   "metadata": {},
   "outputs": [],
   "source": [
    "df[(df['Herbology']>=90) & (df['Transfiguration']>75)][['Flying','Apparition']]"
   ]
  },
  {
   "cell_type": "markdown",
   "metadata": {},
   "source": [
    "## Больше информации про индексы"
   ]
  },
  {
   "cell_type": "code",
   "execution_count": null,
   "metadata": {},
   "outputs": [],
   "source": [
    "# Удаление индекса до базового 0,1...n index\n",
    "df.reset_index()"
   ]
  },
  {
   "cell_type": "code",
   "execution_count": null,
   "metadata": {},
   "outputs": [],
   "source": [
    "newind = 'Potter Weasley Lovegood Longbottom'.split()"
   ]
  },
  {
   "cell_type": "code",
   "execution_count": null,
   "metadata": {},
   "outputs": [],
   "source": [
    "df['Surname'] = newind"
   ]
  },
  {
   "cell_type": "code",
   "execution_count": null,
   "metadata": {},
   "outputs": [],
   "source": [
    "df"
   ]
  },
  {
   "cell_type": "code",
   "execution_count": null,
   "metadata": {},
   "outputs": [],
   "source": [
    "df.set_index('Surname')"
   ]
  },
  {
   "cell_type": "code",
   "execution_count": null,
   "metadata": {},
   "outputs": [],
   "source": [
    "df"
   ]
  },
  {
   "cell_type": "code",
   "execution_count": null,
   "metadata": {},
   "outputs": [],
   "source": [
    "df.set_index('Surname', inplace=True)"
   ]
  },
  {
   "cell_type": "code",
   "execution_count": null,
   "metadata": {},
   "outputs": [],
   "source": [
    "df"
   ]
  },
  {
   "cell_type": "markdown",
   "metadata": {},
   "source": [
    "# Другие операции"
   ]
  },
  {
   "cell_type": "code",
   "execution_count": null,
   "metadata": {},
   "outputs": [],
   "source": [
    "# Поиск уникальных значений в столбце\n",
    "df['Herbology'].unique()"
   ]
  },
  {
   "cell_type": "code",
   "execution_count": null,
   "metadata": {},
   "outputs": [],
   "source": [
    "# Кол-во уникальных значений в столбце\n",
    "df['Herbology'].nunique()"
   ]
  },
  {
   "cell_type": "code",
   "execution_count": null,
   "metadata": {},
   "outputs": [],
   "source": [
    "# Сортировка по значениям одного из столбцов\n",
    "df.sort_values(by='Transfiguration', ascending=False)"
   ]
  },
  {
   "cell_type": "code",
   "execution_count": null,
   "metadata": {},
   "outputs": [],
   "source": [
    "# Перечисление всех названий колонок\n",
    "list(df.columns)"
   ]
  },
  {
   "cell_type": "markdown",
   "metadata": {},
   "source": [
    "# Пропущенные данные"
   ]
  },
  {
   "cell_type": "code",
   "execution_count": null,
   "metadata": {},
   "outputs": [],
   "source": [
    "df = df[df>70]"
   ]
  },
  {
   "cell_type": "code",
   "execution_count": null,
   "metadata": {},
   "outputs": [],
   "source": [
    "df"
   ]
  },
  {
   "cell_type": "code",
   "execution_count": null,
   "metadata": {},
   "outputs": [],
   "source": [
    "# Кол-во пропусков в каждом столбце\n",
    "df.isnull().sum()"
   ]
  },
  {
   "cell_type": "code",
   "execution_count": null,
   "metadata": {},
   "outputs": [],
   "source": [
    "# Удаление строк с пропусками, по дефолту удаляются те, где хотя бы один пропуск\n",
    "df.dropna()"
   ]
  },
  {
   "cell_type": "code",
   "execution_count": null,
   "metadata": {},
   "outputs": [],
   "source": [
    "# То же самое со столбцами\n",
    "df.dropna(axis=1)"
   ]
  },
  {
   "cell_type": "code",
   "execution_count": null,
   "metadata": {},
   "outputs": [],
   "source": [
    "# Заполнение пропусков\n",
    "df.fillna(value='-999')"
   ]
  },
  {
   "cell_type": "markdown",
   "metadata": {},
   "source": [
    "# Группировка"
   ]
  },
  {
   "cell_type": "markdown",
   "metadata": {},
   "source": [
    "Группировки в pandas - это очень мощный инструмент, здесь приведено лишь несколько примеров. Но в интеренете можно найти много туториалов по работе с groupby для решения ваших конкретных задач.\n",
    "\n",
    "Вводая по данным:\n",
    "Департамент регулирования и контроля магических существ классифицирует всех магических существ по шкале от 1 (X) до 5 (XXXXX) таким образом:\n",
    "\n",
    "XXXXX: Known wizard killer / impossible to train or domesticate\n",
    "\n",
    "XXXX: Dangerous / requires specialist knowledge / skilled wizard may handle\n",
    "\n",
    "XXX: Competent wizards should cope\n",
    "\n",
    "XX: Harmless / may be domesticated\n",
    "\n",
    "X: Boring"
   ]
  },
  {
   "cell_type": "code",
   "execution_count": null,
   "metadata": {},
   "outputs": [],
   "source": [
    "np.random.seed(4242)\n",
    "\n",
    "X = ['Flobberworm', 'Horklump']\n",
    "XX = ['Augurey', 'Bowtruckle', 'Chizpurfle', 'Clabbert', 'Diricawl', 'Fairy', 'Ghoul', \n",
    "      'Gnome', 'Grindylow', 'Imp', 'Jobberknoll', 'Mooncalf', 'Porlock', 'Puffskein', 'Ramora', 'Winged horse']\n",
    "XXX = ['Ashwinder', 'Billywig', 'Bundimun', 'Crup', 'Doxy', 'Dugbog', 'Fire crab', \n",
    "       'Fwooper', 'Glumbumble', 'Hippocampus', 'Hippogriff', 'Hodag', 'Jarvey', 'Knarl', 'Kneazle', \n",
    "       'Leprechaun', 'Lobalug', 'Mackled Malaclaw', 'Moke', 'Murtlap', 'Niffler', 'Nogtail', 'Pixie',\n",
    "       'Plimpy', 'Pogrebin', 'Red Cap', 'Salamander', 'Sea serpent', 'Shrake', 'Streeler', 'Winged horse']\n",
    "XXXX = ['Centaur', 'Demiguise', 'Erkling', 'Erumpent', 'Golden Snidget', 'Graphorn', 'Griffin', 'Hidebehind',\n",
    "        'Kappa', 'Kelpie', 'Merpeople', 'Occamy', 'Phoenix', \"Re'em\", 'Runespoor', 'Snallygaster', 'Sphinx',\n",
    "        'Tebo', 'Thestral', 'Thunderbird', 'Troll', 'Unicorn', 'Winged horse', 'Yeti']\n",
    "XXXXX = ['Acromantula', 'Basilisk', 'Chimaera', 'Dragon', 'Horned Serpent', 'Lethifold', 'Manticore',\n",
    "         'Nundu', 'Quintaped', 'Wampus cat', 'Werewolf']\n",
    "\n",
    "X_count = len(X)\n",
    "XX_count = len(XX)\n",
    "XXX_count = len(XXX)\n",
    "XXXX_count = len(XXXX)\n",
    "XXXXX_count = len(XXXXX)\n",
    "\n",
    "Class = ['X']*X_count + ['XX']*XX_count + ['XXX']*XXX_count + ['XXXX']*XXXX_count + ['XXXXX']*XXXXX_count\n",
    "Creatures = X + XX + XXX + XXXX + XXXXX\n",
    "\n",
    "data = {'Class': Class,\n",
    "        'Creature': Creatures,\n",
    "        'Prettiness': randint(0, 100, size = (len(Class)))}\n"
   ]
  },
  {
   "cell_type": "code",
   "execution_count": null,
   "metadata": {},
   "outputs": [],
   "source": [
    "data = pd.DataFrame(data)\n",
    "data.head()"
   ]
  },
  {
   "cell_type": "code",
   "execution_count": null,
   "metadata": {},
   "outputs": [],
   "source": [
    "# Сгруппируем данные по классам и посмотрим на среднюю оценку симпатичности\n",
    "data.groupby('Class')['Prettiness'].mean()"
   ]
  },
  {
   "cell_type": "code",
   "execution_count": null,
   "metadata": {},
   "outputs": [],
   "source": [
    "# Это можно сделать и иным способом. В agg() можно передавать любые функции\n",
    "data.groupby('Class')['Prettiness'].agg(np.mean)"
   ]
  },
  {
   "cell_type": "code",
   "execution_count": null,
   "metadata": {},
   "outputs": [],
   "source": [
    "# Подсчет кол-ва элементов в группах\n",
    "data.groupby('Class')['Prettiness'].count()"
   ]
  },
  {
   "cell_type": "code",
   "execution_count": null,
   "metadata": {},
   "outputs": [],
   "source": [
    "# проверка пролого вывода, все сходится.\n",
    "data['Class'].value_counts()"
   ]
  },
  {
   "cell_type": "code",
   "execution_count": null,
   "metadata": {},
   "outputs": [],
   "source": [
    "# Вывод макимального значения в группе\n",
    "by_class = data.groupby('Class')\n",
    "by_class.max()"
   ]
  },
  {
   "cell_type": "code",
   "execution_count": null,
   "metadata": {},
   "outputs": [],
   "source": [
    "# Описание групп\n",
    "by_class.describe()"
   ]
  },
  {
   "cell_type": "markdown",
   "metadata": {},
   "source": [
    "# Объединение таблиц\n",
    "\n",
    "Существует несколько основных способов объединения DataFrames вместе."
   ]
  },
  {
   "cell_type": "code",
   "execution_count": null,
   "metadata": {},
   "outputs": [],
   "source": [
    "# Обратите внимание на индекс в этом примере, он не пересекается.\n",
    "df1 = pd.DataFrame({'Gryffindor': ['G0', 'G1', 'G2', 'G3'],\n",
    "                        'Hufflepuff': ['H0', 'H1', 'H2', 'H3'],\n",
    "                        'Ravenclaw': ['R0', 'R1', 'R2', 'R3'],\n",
    "                        'Slytherin': ['S0', 'S1', 'S2', 'S3']},\n",
    "                        index=[0, 1, 2, 3])\n",
    "\n",
    "df2 = pd.DataFrame({'Gryffindor': ['G4', 'G5', 'G6', 'G7'],\n",
    "                        'Hufflepuff': ['H4', 'H5', 'H6', 'H7'],\n",
    "                        'Ravenclaw': ['R4', 'R5', 'R6', 'R7'],\n",
    "                        'Slytherin': ['S4', 'S5', 'S6', 'S7']},\n",
    "                        index=[4, 5, 6, 7])\n",
    "\n",
    "df3 = pd.DataFrame({'Gryffindor': ['G8', 'G9', 'G10', 'G11'],\n",
    "                        'Hufflepuff': ['H8', 'H9', 'H10', 'H11'],\n",
    "                        'Ravenclaw': ['R8', 'R9', 'R10', 'R11'],\n",
    "                        'Slytherin': ['S8', 'S9', 'S10', 'S11']},\n",
    "                        index=[8, 9, 10, 11])"
   ]
  },
  {
   "cell_type": "code",
   "execution_count": null,
   "metadata": {},
   "outputs": [],
   "source": [
    "df1"
   ]
  },
  {
   "cell_type": "code",
   "execution_count": null,
   "metadata": {},
   "outputs": [],
   "source": [
    "df2"
   ]
  },
  {
   "cell_type": "markdown",
   "metadata": {},
   "source": [
    "## Concatenation\n",
    "\n",
    "Concatenation склеивает DataFrames вместе. Помните, что размерность данных по той оси, по которой склеиваете, должна совпадать у всех склеиваемых частей, если только не вмешивается индекс. **pd.concat** можно просто передать лист таблиц, которые будут объединены:"
   ]
  },
  {
   "cell_type": "code",
   "execution_count": null,
   "metadata": {},
   "outputs": [],
   "source": [
    "pd.concat([df1,df2,df3])"
   ]
  },
  {
   "cell_type": "code",
   "execution_count": null,
   "metadata": {},
   "outputs": [],
   "source": [
    "# Сравните этот случай, с непересекающимся индексом\n",
    "pd.concat([df1,df2,df3], axis=1)"
   ]
  },
  {
   "cell_type": "code",
   "execution_count": null,
   "metadata": {},
   "outputs": [],
   "source": [
    "df1 = pd.DataFrame({'Gryffindor': ['G0', 'G1', 'G2', 'G3'],\n",
    "                        'Hufflepuff': ['H0', 'H1', 'H2', 'H3'],\n",
    "                        'Ravenclaw': ['R0', 'R1', 'R2', 'R3'],\n",
    "                        'Slytherin': ['S0', 'S1', 'S2', 'S3']})\n",
    "df2 = pd.DataFrame({'Gryffindor': ['G4', 'G5', 'G6', 'G7'],\n",
    "                        'Hufflepuff': ['H4', 'H5', 'H6', 'H7'],\n",
    "                        'Ravenclaw': ['R4', 'R5', 'R6', 'R7'],\n",
    "                        'Slytherin': ['S4', 'S5', 'S6', 'S7']})\n",
    "df3 = pd.DataFrame({'Gryffindor': ['G8', 'G9', 'G10', 'G11'],\n",
    "                        'Hufflepuff': ['H8', 'H9', 'H10', 'H11'],\n",
    "                        'Ravenclaw': ['R8', 'R9', 'R10', 'R11'],\n",
    "                        'Slytherin': ['S8', 'S9', 'S10', 'S11']})"
   ]
  },
  {
   "cell_type": "code",
   "execution_count": null,
   "metadata": {},
   "outputs": [],
   "source": [
    "# И этот - с пересекающимся индексом\n",
    "pd.concat([df1,df2,df3], axis=1)"
   ]
  },
  {
   "cell_type": "code",
   "execution_count": null,
   "metadata": {},
   "outputs": [],
   "source": [
    "# Append так же подходит для простых случаев склейки таблиц, но только по 0 оси.\n",
    "df1.append(df2).append(df3)"
   ]
  },
  {
   "cell_type": "code",
   "execution_count": null,
   "metadata": {},
   "outputs": [],
   "source": [
    "# Очень полезная опция удаления индекса на случай, если он пересекающийся. \n",
    "# Часто по пересекающимуся индексу проблематично осуществлять индексирование. \n",
    "# Так что лучше всегда удалять индекс.\n",
    "df1.append(df2).append(df3).reset_index(drop=True)"
   ]
  },
  {
   "cell_type": "markdown",
   "metadata": {},
   "source": [
    "## Merging\n",
    "\n",
    "**merge** позволяет объединять таблицы, следуя той же логике, что и в SQL."
   ]
  },
  {
   "cell_type": "code",
   "execution_count": null,
   "metadata": {},
   "outputs": [],
   "source": [
    "left = pd.DataFrame({'key': ['Astronomy', 'Apparition', 'Charms', 'Flying', 'Herbology'],\n",
    "                     'Gryffindor': ['G0', 'G1', 'G2', 'G3', 'G4'],\n",
    "                     'Slytherin': ['S0', 'S1', 'S2', 'S3', 'S4']})\n",
    "   \n",
    "right = pd.DataFrame({'key': ['Astronomy', 'Charms', 'Flying', 'Potions', 'Herbology'],\n",
    "                      'Hufflepuff': ['H0', 'H1', 'H2', 'H3', 'H4'],\n",
    "                      'Ravenclaw': ['R0', 'R1', 'R2', 'R3', 'R4']})    "
   ]
  },
  {
   "cell_type": "code",
   "execution_count": null,
   "metadata": {},
   "outputs": [],
   "source": [
    "left"
   ]
  },
  {
   "cell_type": "code",
   "execution_count": null,
   "metadata": {},
   "outputs": [],
   "source": [
    "right"
   ]
  },
  {
   "cell_type": "code",
   "execution_count": null,
   "metadata": {},
   "outputs": [],
   "source": [
    "pd.merge(left,right,how='inner',on='key')"
   ]
  },
  {
   "cell_type": "code",
   "execution_count": null,
   "metadata": {},
   "outputs": [],
   "source": [
    "pd.merge(left, right, how='outer', on='key')"
   ]
  },
  {
   "cell_type": "code",
   "execution_count": null,
   "metadata": {},
   "outputs": [],
   "source": [
    "pd.merge(left, right, how='right', on='key')"
   ]
  },
  {
   "cell_type": "code",
   "execution_count": null,
   "metadata": {},
   "outputs": [],
   "source": [
    "pd.merge(left, right, how='left', on='key')"
   ]
  },
  {
   "cell_type": "markdown",
   "metadata": {},
   "source": [
    "Есть и другие способы объединения таблиц в разных специфических случаях. Так что не пренебрегайте гуглением, там есть ответы на почти все ваши вопросы. Если ответа на ваш вопрос не нашлось, скорее всего, вы немного не так спрашиваете."
   ]
  },
  {
   "cell_type": "markdown",
   "metadata": {},
   "source": [
    "# Отличная работа!"
   ]
  },
  {
   "cell_type": "code",
   "execution_count": null,
   "metadata": {},
   "outputs": [],
   "source": []
  }
 ],
 "metadata": {
  "kernelspec": {
   "display_name": "Python 3",
   "language": "python",
   "name": "python3"
  },
  "language_info": {
   "codemirror_mode": {
    "name": "ipython",
    "version": 3
   },
   "file_extension": ".py",
   "mimetype": "text/x-python",
   "name": "python",
   "nbconvert_exporter": "python",
   "pygments_lexer": "ipython3",
   "version": "3.6.6"
  }
 },
 "nbformat": 4,
 "nbformat_minor": 1
}
