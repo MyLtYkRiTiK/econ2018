{
 "cells": [
  {
   "cell_type": "markdown",
   "metadata": {},
   "source": [
    "# K Nearest Neighbors\n",
    "\n",
    "Практическая работа по методу k-ближайших соседей."
   ]
  },
  {
   "cell_type": "markdown",
   "metadata": {},
   "source": [
    "## Загрузка библиотек\n",
    "\n"
   ]
  },
  {
   "cell_type": "code",
   "execution_count": null,
   "metadata": {},
   "outputs": [],
   "source": [
    "import pandas as pd\n",
    "import seaborn as sns\n",
    "import matplotlib.pyplot as plt\n",
    "import numpy as np\n",
    "\n",
    "sns.set_style('whitegrid')\n",
    "%matplotlib inline"
   ]
  },
  {
   "cell_type": "markdown",
   "metadata": {},
   "source": [
    "## Загрузка данных\n",
    "\n",
    "Данные взяты с сайта Kaggle.com: https://www.kaggle.com/abcsds/pokemon"
   ]
  },
  {
   "cell_type": "code",
   "execution_count": null,
   "metadata": {},
   "outputs": [],
   "source": [
    "data = pd.read_csv(\"data/Pokemon.csv\", index_col=0).reset_index(drop=True)"
   ]
  },
  {
   "cell_type": "code",
   "execution_count": null,
   "metadata": {},
   "outputs": [],
   "source": [
    "data.head()"
   ]
  },
  {
   "cell_type": "markdown",
   "metadata": {},
   "source": [
    "# Exploratory Data Analysis - описательное исследование данных\n",
    "\n",
    "Начнем рассмотрение данных с пропущенных данных, затем посмотрим на распределение категориальных и числовых данных.\n",
    "\n",
    "## Missing Data - пропущенные данные"
   ]
  },
  {
   "cell_type": "code",
   "execution_count": null,
   "metadata": {},
   "outputs": [],
   "source": [
    "sns.heatmap(data.isnull(), yticklabels=False, cbar=False, cmap='viridis')\n",
    "plt.show()"
   ]
  },
  {
   "cell_type": "markdown",
   "metadata": {},
   "source": [
    "В наших данных мало пропусков - всего одна колонка. \n",
    "\n",
    "Есть несколько способов бороться с пропусками в категориальных данных:\n",
    "* Удалить такие колонки;\n",
    "* Заполнить новыми значениями, тем самым создав дополнительную группу.\n",
    "\n",
    "Поступим вторым способом."
   ]
  },
  {
   "cell_type": "code",
   "execution_count": null,
   "metadata": {},
   "outputs": [],
   "source": [
    "data.loc[data['Type 2'].isnull(), 'Type 2'] = 'NoneType'"
   ]
  },
  {
   "cell_type": "markdown",
   "metadata": {},
   "source": [
    "## Распределения\n",
    "\n",
    "Посмотрим на таргет, а потом на остальные колонки."
   ]
  },
  {
   "cell_type": "code",
   "execution_count": null,
   "metadata": {},
   "outputs": [],
   "source": [
    "fig = sns.countplot(x='Legendary', data=data)\n",
    "plt.show()"
   ]
  },
  {
   "cell_type": "markdown",
   "metadata": {},
   "source": [
    "Виден сильный перекос в таргете, поэтому придется с осторожностью подойти к подбору метрики качества.\n",
    "\n",
    "Ниже распределения остальных категориальных фич и числовых."
   ]
  },
  {
   "cell_type": "code",
   "execution_count": null,
   "metadata": {},
   "outputs": [],
   "source": [
    "fig = sns.countplot(x='Generation', data=data)\n",
    "plt.show()"
   ]
  },
  {
   "cell_type": "code",
   "execution_count": null,
   "metadata": {},
   "outputs": [],
   "source": [
    "fig = sns.countplot(x='Generation', hue='Legendary', data=data)\n",
    "\n",
    "plt.show()"
   ]
  },
  {
   "cell_type": "code",
   "execution_count": null,
   "metadata": {},
   "outputs": [],
   "source": [
    "fig = sns.countplot(x='Type 1', hue='Legendary', data=data)\n",
    "fig.set_xticklabels(fig.get_xticklabels(), rotation=70)\n",
    "plt.show()"
   ]
  },
  {
   "cell_type": "code",
   "execution_count": null,
   "metadata": {},
   "outputs": [],
   "source": [
    "fig = sns.countplot(x='Type 2', hue='Legendary', data=data)\n",
    "fig.set_xticklabels(fig.get_xticklabels(), rotation=70)\n",
    "plt.show()"
   ]
  },
  {
   "cell_type": "code",
   "execution_count": null,
   "metadata": {},
   "outputs": [],
   "source": [
    "num_cols = [col for col in data.columns if data[col].dtype == 'float64' or data[col].dtype == 'int64']\n",
    "need_cols = num_cols+['Legendary']"
   ]
  },
  {
   "cell_type": "code",
   "execution_count": null,
   "metadata": {},
   "outputs": [],
   "source": [
    "sns.pairplot(data[need_cols], hue='Legendary')\n",
    "plt.show()"
   ]
  },
  {
   "cell_type": "code",
   "execution_count": null,
   "metadata": {},
   "outputs": [],
   "source": [
    "for col in num_cols:\n",
    "    sns.distplot(data[col])\n",
    "    plt.show()"
   ]
  },
  {
   "cell_type": "markdown",
   "metadata": {},
   "source": [
    "## Преобразуем  категориальные данные в числовые.\n",
    "\n",
    "В метрических алгоритмах есть так называемое проклятье размерности. Это когда размерность пространства признаков настолько большая, что для алгоритма все объекты равноудалены и классификация или регрессия по ним затруднительна. \n",
    "\n",
    "Поэтому при преобразовании категориальных признаков нам не хотелось бы сильно увеличивать размерность пространства признаков.\n",
    "\n",
    "Есть два основынх способа преобразования категориальных переменных:\n",
    "* Дамми-переменные, когда каждому значению категориальной переменной соответствует своя колонка и единичка ставится в соответствующую колонку, если у объекта данное значение категориального признака. Если в переменной 3 значения, то колонок тоже будет три, и 1 будут стоять в соответствующий колонке.\n",
    "* Каждому значению категориальной переменной присвоить свое число. Самый простой способ - это LabelEncoding.\n",
    "\n",
    "Для нас лучше начать с LabelEncoding, так как таким способом новых фичей мы не будем добавлять. А в случае с дамми переменными пришлось бы еще много колонок добавить. "
   ]
  },
  {
   "cell_type": "code",
   "execution_count": null,
   "metadata": {},
   "outputs": [],
   "source": [
    "data.info()"
   ]
  },
  {
   "cell_type": "markdown",
   "metadata": {},
   "source": [
    "Всего у нас 3 нечисловые фичи, помимо таргета, который легко преобразуется в 0 и 1. Но с Name мы не будем сейчас разбираться. Хотя самые интересующуюся могут применить к Name методы NLP. Например, TF-IDF. Поэтому пока просто выкинем Name."
   ]
  },
  {
   "cell_type": "code",
   "execution_count": null,
   "metadata": {},
   "outputs": [],
   "source": [
    "data.drop('Name', inplace=True, axis=1)"
   ]
  },
  {
   "cell_type": "code",
   "execution_count": null,
   "metadata": {},
   "outputs": [],
   "source": [
    "from sklearn.preprocessing import LabelEncoder\n",
    "encoder = LabelEncoder()\n",
    "data['Type 1'] = encoder.fit_transform(data['Type 1'])\n",
    "data['Type 2'] = encoder.fit_transform(data['Type 2'])"
   ]
  },
  {
   "cell_type": "markdown",
   "metadata": {},
   "source": [
    "## Train Test Split"
   ]
  },
  {
   "cell_type": "code",
   "execution_count": null,
   "metadata": {},
   "outputs": [],
   "source": [
    "from sklearn.model_selection import train_test_split"
   ]
  },
  {
   "cell_type": "code",
   "execution_count": null,
   "metadata": {},
   "outputs": [],
   "source": [
    "X_train, X_test, y_train, y_test = train_test_split(data, data['Legendary'],\n",
    "                                                    test_size=0.3, random_state=42)"
   ]
  },
  {
   "cell_type": "markdown",
   "metadata": {},
   "source": [
    "## Скалирование признаков.\n",
    "\n",
    "Метрические методы крайне чувствительны к масштабу признаков, так как большим по масштабу признакам будет придано большее значение, ведь они вносят больший вклад в совокупное расстояние. Хотя, на самом деле, они могут быть и не важны. Поэтому хорошо было бы привести их к одному порядку."
   ]
  },
  {
   "cell_type": "code",
   "execution_count": null,
   "metadata": {},
   "outputs": [],
   "source": [
    "from sklearn.preprocessing import MinMaxScaler"
   ]
  },
  {
   "cell_type": "code",
   "execution_count": null,
   "metadata": {},
   "outputs": [],
   "source": [
    "scaler = MinMaxScaler()"
   ]
  },
  {
   "cell_type": "code",
   "execution_count": null,
   "metadata": {},
   "outputs": [],
   "source": [
    "num_cols = [col for col in X_train.columns if X_train[col].dtype == 'float64' or X_train[col].dtype == 'int64']"
   ]
  },
  {
   "cell_type": "code",
   "execution_count": null,
   "metadata": {},
   "outputs": [],
   "source": [
    "scaler.fit(X_train[num_cols])"
   ]
  },
  {
   "cell_type": "code",
   "execution_count": null,
   "metadata": {},
   "outputs": [],
   "source": [
    "scaled_features = scaler.transform(X_train[num_cols])\n",
    "X_test = scaler.transform(X_test[num_cols])"
   ]
  },
  {
   "cell_type": "code",
   "execution_count": null,
   "metadata": {},
   "outputs": [],
   "source": [
    "df_feat = pd.DataFrame(scaled_features, columns=num_cols)\n",
    "X_test = pd.DataFrame(X_test, columns=num_cols)\n",
    "df_feat.head()"
   ]
  },
  {
   "cell_type": "markdown",
   "metadata": {},
   "source": [
    "## Построение модели KNN\n",
    "\n",
    "Начнем с простого случая одного соседа."
   ]
  },
  {
   "cell_type": "code",
   "execution_count": null,
   "metadata": {},
   "outputs": [],
   "source": [
    "from sklearn.neighbors import KNeighborsClassifier"
   ]
  },
  {
   "cell_type": "code",
   "execution_count": null,
   "metadata": {},
   "outputs": [],
   "source": [
    "knn = KNeighborsClassifier(n_neighbors=1)"
   ]
  },
  {
   "cell_type": "code",
   "execution_count": null,
   "metadata": {},
   "outputs": [],
   "source": [
    "knn.fit(df_feat, y_train)"
   ]
  },
  {
   "cell_type": "code",
   "execution_count": null,
   "metadata": {},
   "outputs": [],
   "source": [
    "pred = knn.predict_proba(X_test)[:, 1]"
   ]
  },
  {
   "cell_type": "markdown",
   "metadata": {},
   "source": [
    "## Предсказание и оценка модели"
   ]
  },
  {
   "cell_type": "code",
   "execution_count": null,
   "metadata": {},
   "outputs": [],
   "source": [
    "from sklearn.metrics import classification_report, confusion_matrix, roc_auc_score, accuracy_score"
   ]
  },
  {
   "cell_type": "code",
   "execution_count": null,
   "metadata": {},
   "outputs": [],
   "source": [
    "print(confusion_matrix(y_test, pred))"
   ]
  },
  {
   "cell_type": "code",
   "execution_count": null,
   "metadata": {},
   "outputs": [],
   "source": [
    "print('Precision (class False) {:.2f} Recall (class False) {:.2f}\\\n",
    "      \\nPrecision (class True)  {:.2f} Recall (calss True)  {:.2f}'.format(218/223, 218/225, 10/17, 10/15))"
   ]
  },
  {
   "cell_type": "code",
   "execution_count": null,
   "metadata": {},
   "outputs": [],
   "source": [
    "print(classification_report(y_test, pred))"
   ]
  },
  {
   "cell_type": "code",
   "execution_count": null,
   "metadata": {},
   "outputs": [],
   "source": [
    "print('{:.2f} {:.2f}'.format((218+10)/(218+10+7+5), accuracy_score(y_test, pred)))"
   ]
  },
  {
   "cell_type": "code",
   "execution_count": null,
   "metadata": {},
   "outputs": [],
   "source": [
    "print('{:.2f}'.format(roc_auc_score(y_test, pred)))"
   ]
  },
  {
   "cell_type": "markdown",
   "metadata": {},
   "source": [
    "## Выбор K"
   ]
  },
  {
   "cell_type": "code",
   "execution_count": null,
   "metadata": {},
   "outputs": [],
   "source": [
    "error_rate = []\n",
    "\n",
    "for i in range(1, 40):\n",
    "    knn = KNeighborsClassifier(n_neighbors=i)\n",
    "    knn.fit(df_feat, y_train)\n",
    "    pred_i = knn.predict_proba(X_test)[:, 1]\n",
    "    error_rate.append(roc_auc_score(y_test, pred_i))"
   ]
  },
  {
   "cell_type": "code",
   "execution_count": null,
   "metadata": {},
   "outputs": [],
   "source": [
    "plt.figure(figsize=(10, 6))\n",
    "plt.plot(range(1, 40),error_rate, color='blue', linestyle='dashed', marker='.')\n",
    "plt.title('ROC-AUC vs. K Value')\n",
    "plt.xlabel('K')\n",
    "plt.ylabel('ROC-AUC')\n",
    "errors = list(zip(range(1,100), error_rate))\n",
    "errors = sorted(errors, key=lambda tup: tup[1], reverse=True)\n",
    "vert_line = errors[0][0]\n",
    "plt.vlines(x=vert_line, ymin=min(error_rate), ymax=max(error_rate)+0.005, color='red', linestyles='dashed')\n",
    "plt.show()"
   ]
  },
  {
   "cell_type": "code",
   "execution_count": null,
   "metadata": {},
   "outputs": [],
   "source": [
    "errors = list(zip(range(1,100), error_rate))\n",
    "errors = sorted(errors, key=lambda tup: tup[1], reverse=True)\n",
    "errors[:5]"
   ]
  },
  {
   "cell_type": "markdown",
   "metadata": {
    "collapsed": true
   },
   "source": [
    "## Cross Validation"
   ]
  },
  {
   "cell_type": "code",
   "execution_count": null,
   "metadata": {},
   "outputs": [],
   "source": [
    "target = data['Legendary']*1"
   ]
  },
  {
   "cell_type": "code",
   "execution_count": null,
   "metadata": {},
   "outputs": [],
   "source": [
    "from sklearn.model_selection import KFold\n",
    "error_rate = []\n",
    "\n",
    "for i in range(1, 50):\n",
    "    kf = KFold(n_splits=10, shuffle=True, random_state=42)\n",
    "    val_rate = []\n",
    "    for tr_ind, val_ind in kf.split(data):\n",
    "        knn = KNeighborsClassifier(n_neighbors=i)\n",
    "        train = data.loc[tr_ind, num_cols]\n",
    "        val = data.loc[val_ind, num_cols]\n",
    "        scaler = MinMaxScaler()\n",
    "        scaler.fit(train)\n",
    "        train = scaler.transform(train)\n",
    "        val = scaler.transform(val)\n",
    "        train = pd.DataFrame(train, columns=num_cols)\n",
    "        val = pd.DataFrame(val, columns=num_cols)\n",
    "        \n",
    "        target_train = target[tr_ind]\n",
    "        target_val = target[val_ind]\n",
    "\n",
    "        knn.fit(train, target_train)\n",
    "        pred_i = knn.predict_proba(val)[:, 1]\n",
    "        val_rate.append(roc_auc_score(target_val, pred_i))\n",
    "    error_rate.append(np.mean(val_rate))"
   ]
  },
  {
   "cell_type": "code",
   "execution_count": null,
   "metadata": {},
   "outputs": [],
   "source": [
    "plt.figure(figsize=(10, 6))\n",
    "plt.plot(range(1, 50),error_rate, color='blue', linestyle='dashed', marker='.')\n",
    "plt.title('{}, {:.3f}'.format('ROC-AUC vs. K Value', max(error_rate)))\n",
    "plt.xlabel('K')\n",
    "plt.ylabel('ROC-AUC')\n",
    "errors = list(zip(range(1, 50), error_rate))\n",
    "errors = sorted(errors, key=lambda tup: tup[1], reverse=True)\n",
    "vert_line = errors[0][0]\n",
    "plt.vlines(x=vert_line, ymin=min(error_rate), ymax=max(error_rate)+0.005, color='red', linestyles='dashed')\n",
    "plt.show()"
   ]
  },
  {
   "cell_type": "code",
   "execution_count": null,
   "metadata": {},
   "outputs": [],
   "source": [
    "metrics = ['euclidean', 'manhattan', 'chebyshev', 'minkowski']\n",
    "for metric in metrics:\n",
    "    error_rate = []\n",
    "    for i in range(1, 50):\n",
    "        kf = KFold(n_splits=10, shuffle=True, random_state=42)\n",
    "        val_rate = []\n",
    "        for tr_ind, val_ind in kf.split(data):\n",
    "            knn = KNeighborsClassifier(n_neighbors=i, metric=metric)\n",
    "            train = data.loc[tr_ind, num_cols]\n",
    "            val = data.loc[val_ind, num_cols]\n",
    "            scaler = MinMaxScaler()\n",
    "            scaler.fit(train)\n",
    "            train = scaler.transform(train)\n",
    "            val = scaler.transform(val)\n",
    "            train = pd.DataFrame(train, columns=num_cols)\n",
    "            val = pd.DataFrame(val, columns=num_cols)\n",
    "\n",
    "            target_train = target[tr_ind]\n",
    "            target_val = target[val_ind]\n",
    "\n",
    "            knn.fit(train, target_train)\n",
    "            pred_i = knn.predict_proba(val)[:, 1]\n",
    "            val_rate.append(roc_auc_score(target_val, pred_i))\n",
    "        error_rate.append(np.mean(val_rate))\n",
    "        \n",
    "    plt.figure(figsize=(10, 6))\n",
    "    plt.plot(range(1, 50), error_rate, color='blue', linestyle='dashed', marker='.')\n",
    "    plt.title('{}, {}, {:.3f}'.format('ROC-AUC vs. K Value', metric, max(error_rate)))\n",
    "    plt.xlabel('K')\n",
    "    plt.ylabel('ROC-AUC')\n",
    "    errors = list(zip(range(1, 50), error_rate))\n",
    "    errors = sorted(errors, key=lambda tup: tup[1], reverse=True)\n",
    "    vert_line = errors[0][0]\n",
    "    plt.vlines(x=vert_line, ymin=min(error_rate), ymax=max(error_rate)+0.005, color='red', linestyles='dashed')\n",
    "    plt.show()"
   ]
  },
  {
   "cell_type": "markdown",
   "metadata": {},
   "source": [
    "# Домашнее задание\n",
    "\n",
    "Вам необходимо  построить модель по кросс-валидации с максимальном скором метрики roc_auc.\n",
    "\n",
    "Ограничения: не более 50 соседей, не более 10 фолдов и фиксированный random_state, то есть:\n",
    ">     for i in range(1, 50):\n",
    ">         kf = KFold(n_splits=10, shuffle=True, random_state=42)\n",
    "\n",
    "Советы для возможных улучшений:\n",
    "* Перебирать параметры для меделей, например, можно подобрать оптимальный p для метрики minkowski\n",
    "* Удаление или генерация колонок тоже может привести к росту скора."
   ]
  },
  {
   "cell_type": "markdown",
   "metadata": {},
   "source": [
    "# Отличная работа!\n",
    "\n",
    "Не ленитесь пробовать новое!"
   ]
  }
 ],
 "metadata": {
  "kernelspec": {
   "display_name": "Python 3",
   "language": "python",
   "name": "python3"
  },
  "language_info": {
   "codemirror_mode": {
    "name": "ipython",
    "version": 3
   },
   "file_extension": ".py",
   "mimetype": "text/x-python",
   "name": "python",
   "nbconvert_exporter": "python",
   "pygments_lexer": "ipython3",
   "version": "3.6.6"
  }
 },
 "nbformat": 4,
 "nbformat_minor": 1
}
