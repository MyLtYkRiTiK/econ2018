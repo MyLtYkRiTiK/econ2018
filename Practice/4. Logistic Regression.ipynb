{
 "cells": [
  {
   "cell_type": "markdown",
   "metadata": {},
   "source": [
    "# Логистическая регрессия\n",
    "\n",
    "Практическая лекция по логистической регрессии.\n",
    "\n",
    "На этом занятии мы будем работать с тем же набором данных, что и в занятии про Knn. Так что посмотреть, что мы делали с данными, можнно там."
   ]
  },
  {
   "cell_type": "code",
   "execution_count": null,
   "metadata": {},
   "outputs": [],
   "source": [
    "import pandas as pd\n",
    "import numpy as np\n",
    "import matplotlib.pyplot as plt\n",
    "import seaborn as sns\n",
    "%matplotlib inline"
   ]
  },
  {
   "cell_type": "code",
   "execution_count": null,
   "metadata": {},
   "outputs": [],
   "source": [
    "data = pd.read_csv('data/Pokemon.csv', index_col=0).reset_index(drop=True)"
   ]
  },
  {
   "cell_type": "code",
   "execution_count": null,
   "metadata": {},
   "outputs": [],
   "source": [
    "data.head()"
   ]
  },
  {
   "cell_type": "code",
   "execution_count": null,
   "metadata": {},
   "outputs": [],
   "source": [
    "num_cols = [col for col in data.columns if data[col].dtype == 'float64' or data[col].dtype == 'int64']"
   ]
  },
  {
   "cell_type": "code",
   "execution_count": null,
   "metadata": {},
   "outputs": [],
   "source": [
    "data.loc[data['Type 2'].isnull(), 'Type 2'] = 'NoneType'"
   ]
  },
  {
   "cell_type": "markdown",
   "metadata": {},
   "source": [
    "## Преобразование категориальных признаков \n",
    "\n",
    "Линейным моделям не страшна размерность пространства признаков, так что для категориальных добавим дамми переменные. Но LabelEncoding тоже сохраним."
   ]
  },
  {
   "cell_type": "code",
   "execution_count": null,
   "metadata": {},
   "outputs": [],
   "source": [
    "from sklearn.preprocessing import LabelEncoder\n",
    "encoder = LabelEncoder()\n",
    "data['Type 1'] = encoder.fit_transform(data['Type 1'])\n",
    "data['Type 2'] = encoder.fit_transform(data['Type 2'])"
   ]
  },
  {
   "cell_type": "code",
   "execution_count": null,
   "metadata": {},
   "outputs": [],
   "source": [
    "type1 = pd.get_dummies(data['Type 1'], drop_first=True)\n",
    "type1.columns = ['type1_'+str(i) for i in range(type1.shape[1])]\n",
    "type2 = pd.get_dummies(data['Type 2'], drop_first=True)\n",
    "type2.columns = ['type2_'+str(i) for i in range(type2.shape[1])]\n"
   ]
  },
  {
   "cell_type": "code",
   "execution_count": null,
   "metadata": {},
   "outputs": [],
   "source": [
    "data.drop('Name', axis=1, inplace=True)"
   ]
  },
  {
   "cell_type": "code",
   "execution_count": null,
   "metadata": {},
   "outputs": [],
   "source": [
    "data = pd.concat([data, type1, type2], axis=1)"
   ]
  },
  {
   "cell_type": "markdown",
   "metadata": {},
   "source": [
    "Добавим все двойные кросс признаки. Константный признак включать не будем."
   ]
  },
  {
   "cell_type": "code",
   "execution_count": null,
   "metadata": {},
   "outputs": [],
   "source": [
    "from sklearn.preprocessing import PolynomialFeatures\n",
    "\n",
    "pol_feat = PolynomialFeatures(degree=2, include_bias=False)\n",
    "pol = pd.DataFrame(pol_feat.fit_transform(data.drop('Legendary', axis=1))).reset_index(drop=True)\n",
    "pol.columns = ['pol_'+str(i) for i in range(pol.shape[1])]"
   ]
  },
  {
   "cell_type": "code",
   "execution_count": null,
   "metadata": {},
   "outputs": [],
   "source": [
    "pol.head()"
   ]
  },
  {
   "cell_type": "code",
   "execution_count": null,
   "metadata": {},
   "outputs": [],
   "source": [
    "data = pd.concat([data, pol], axis=1)"
   ]
  },
  {
   "cell_type": "code",
   "execution_count": null,
   "metadata": {},
   "outputs": [],
   "source": [
    "data.head()"
   ]
  },
  {
   "cell_type": "markdown",
   "metadata": {},
   "source": [
    "# Построение модели логистической регрессии\n",
    "\n",
    "## Train Test Split"
   ]
  },
  {
   "cell_type": "code",
   "execution_count": null,
   "metadata": {},
   "outputs": [],
   "source": [
    "from sklearn.model_selection import train_test_split"
   ]
  },
  {
   "cell_type": "code",
   "execution_count": null,
   "metadata": {},
   "outputs": [],
   "source": [
    "X_train, X_test, y_train, y_test = train_test_split(data.drop('Legendary', axis=1), \n",
    "                                                    data['Legendary'], test_size=0.3, \n",
    "                                                    random_state=42)"
   ]
  },
  {
   "cell_type": "markdown",
   "metadata": {},
   "source": [
    "## Training and Predicting"
   ]
  },
  {
   "cell_type": "code",
   "execution_count": null,
   "metadata": {},
   "outputs": [],
   "source": [
    "from sklearn.linear_model import LogisticRegression"
   ]
  },
  {
   "cell_type": "code",
   "execution_count": null,
   "metadata": {},
   "outputs": [],
   "source": [
    "logmodel = LogisticRegression(C=2, max_iter=1000, warm_start=True, random_state=42)\n",
    "logmodel.fit(X_train, y_train)"
   ]
  },
  {
   "cell_type": "code",
   "execution_count": null,
   "metadata": {},
   "outputs": [],
   "source": [
    "predictions = logmodel.predict_proba(X_test)[:, 1]"
   ]
  },
  {
   "cell_type": "markdown",
   "metadata": {},
   "source": [
    "## Оценка качества модели"
   ]
  },
  {
   "cell_type": "code",
   "execution_count": null,
   "metadata": {},
   "outputs": [],
   "source": [
    "from sklearn.metrics import roc_auc_score"
   ]
  },
  {
   "cell_type": "code",
   "execution_count": null,
   "metadata": {},
   "outputs": [],
   "source": [
    "print(roc_auc_score(y_test, predictions))"
   ]
  },
  {
   "cell_type": "markdown",
   "metadata": {},
   "source": [
    "## Cross Validation"
   ]
  },
  {
   "cell_type": "code",
   "execution_count": null,
   "metadata": {},
   "outputs": [],
   "source": [
    "target = data['Legendary']*1"
   ]
  },
  {
   "cell_type": "code",
   "execution_count": null,
   "metadata": {},
   "outputs": [],
   "source": [
    "from sklearn.model_selection import KFold\n",
    "\n",
    "kf = KFold(n_splits=10, shuffle=True, random_state=42)\n",
    "val_rate = []\n",
    "for tr_ind, val_ind in kf.split(data):\n",
    "    lr = LogisticRegression(C=2, max_iter=1000, warm_start=True, random_state=42)\n",
    "    train = data.drop('Legendary', axis=1).loc[tr_ind]\n",
    "    val = data.drop('Legendary', axis=1).loc[val_ind]\n",
    "\n",
    "    target_train = target[tr_ind]\n",
    "    target_val = target[val_ind]\n",
    "\n",
    "    lr.fit(train, target_train)\n",
    "    pred_i = lr.predict_proba(val)[:, 1]\n",
    "    val_rate.append(roc_auc_score(target_val, pred_i))"
   ]
  },
  {
   "cell_type": "code",
   "execution_count": null,
   "metadata": {},
   "outputs": [],
   "source": [
    "print('Среднее: {:.3f}\\nCтандартное отклонение: {:.3f}'.format(np.mean(val_rate), np.std(val_rate)))"
   ]
  },
  {
   "cell_type": "markdown",
   "metadata": {},
   "source": [
    "# Домашнее задание\n",
    "\n",
    "Сделать модель с лучшим скором. \n",
    "\n",
    "Параметры кросс-валидации зафиксированы, в остальном полная свобода действий.\n",
    "> kf = KFold(n_splits=10, shuffle=True, random_state=42)\n",
    "\n",
    "Советы:\n",
    "* Отбор признаков в данном случае очень важен. Мой бейзлайн на 0.958 на небольшом кол-ве признаков. Его надо побить;\n",
    "* Например, можно отбирать с помощью значимости по p-value. Как это сделать в Python можно посмотреть тут: https://stackoverflow.com/questions/27928275/find-p-value-significance-in-scikit-learn-linearregression;\n",
    "* Попробуйте скалировать признаки, например, через StandardScaler или через MinMaxScaler.\n"
   ]
  },
  {
   "cell_type": "markdown",
   "metadata": {},
   "source": [
    "## Отличная работа!\n",
    "\n",
    "Не сдавайтесь!"
   ]
  }
 ],
 "metadata": {
  "kernelspec": {
   "display_name": "Python 3",
   "language": "python",
   "name": "python3"
  },
  "language_info": {
   "codemirror_mode": {
    "name": "ipython",
    "version": 3
   },
   "file_extension": ".py",
   "mimetype": "text/x-python",
   "name": "python",
   "nbconvert_exporter": "python",
   "pygments_lexer": "ipython3",
   "version": "3.6.6"
  }
 },
 "nbformat": 4,
 "nbformat_minor": 1
}
