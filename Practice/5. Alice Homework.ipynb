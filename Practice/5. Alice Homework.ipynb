{
 "cells": [
  {
   "cell_type": "markdown",
   "metadata": {},
   "source": [
    "# Задание. Срок 20 декабря. (Само соревнование завершается 14 декабря).\n",
    "\n",
    "Продолжим работать с данными из [соревнования про детекцию мошенника](https://www.kaggle.com/c/catch-me-if-you-can-intruder-detection-through-webpage-session-tracking2). \n",
    "\n",
    "На прошлом занятии мы рассмотерли лишь половину колонок, остались колонки времени. Задание состоит в том, чтобы из этих колонок нагенерить разных признаков и уже по ним построить модель RandomForestClassifier.\n",
    "\n",
    "Для вдохновения можно посмотреть на [открытый кернел со страницы соревнования](https://www.kaggle.com/smyrbdr/simple-but-useful-time-features-eda).\n",
    "\n",
    "Итак, что надо сделать?\n",
    "\n",
    "* Подберите лучшие гиперпараметры для случайного леса. Учтите, что данные уже не игрушечные и модели могут строиться долго. Поэтому некоторые параметры стоит выбрать сразу исходя из понимания модели. Все доступные гиперпараметры перечислены [здесь](https://scikit-learn.org/stable/modules/generated/sklearn.ensemble.RandomForestClassifier.html).\n",
    "* Подумайте, какой тип кросс-валидации лучше всего подходит для этой задачи и реализуйте его.\n",
    "* Оцените качество полученного алгоритма. \n",
    "    \n",
    "* (Опционально) Посмотрите, какой скор показала ваша модель на лидерборде. \n",
    "* (Опционально для понимания) Посмотрите, как меняется качество на трейне и тесте (сделайте TrainTestSplit) по мере роста максимальной глубины дерева. Наблюдаете ли Вы переобучение? Какие гиперпараметры могут помочь в борьбе с переобучением?"
   ]
  },
  {
   "cell_type": "code",
   "execution_count": null,
   "metadata": {},
   "outputs": [],
   "source": []
  }
 ],
 "metadata": {
  "kernelspec": {
   "display_name": "Python 3",
   "language": "python",
   "name": "python3"
  },
  "language_info": {
   "codemirror_mode": {
    "name": "ipython",
    "version": 3
   },
   "file_extension": ".py",
   "mimetype": "text/x-python",
   "name": "python",
   "nbconvert_exporter": "python",
   "pygments_lexer": "ipython3",
   "version": "3.7.0"
  }
 },
 "nbformat": 4,
 "nbformat_minor": 2
}
